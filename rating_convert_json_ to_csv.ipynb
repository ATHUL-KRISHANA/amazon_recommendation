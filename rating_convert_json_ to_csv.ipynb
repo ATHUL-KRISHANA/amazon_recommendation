{
 "cells": [
  {
   "cell_type": "code",
   "execution_count": 7,
   "id": "b87cffd3",
   "metadata": {},
   "outputs": [],
   "source": [
    "import json\n",
    "import pandas as pd\n",
    "\n",
    "json_file_path = 'Electronics.jsonl'\n",
    "csv_file_path = 'output_file1.csv'\n",
    "\n",
    "data_chunks = []\n",
    "\n",
    "\n",
    "with open(json_file_path, 'r') as f:\n",
    "    for line in f:\n",
    "        try:\n",
    "           \n",
    "            obj = json.loads(line.strip())\n",
    "            data_chunks.append(obj)\n",
    "\n",
    "            if len(data_chunks) >= 1000:\n",
    "                df = pd.DataFrame(data_chunks)\n",
    "                df.to_csv(csv_file_path, mode='a', header=not pd.io.common.file_exists(csv_file_path), index=False)\n",
    "                data_chunks = []  \n",
    "        except json.JSONDecodeError as e:\n",
    "            print(f\"Error parsing line: {line}\\n{e}\")\n",
    "\n",
    "\n",
    "if data_chunks:\n",
    "    df = pd.DataFrame(data_chunks)\n",
    "    df.to_csv(csv_file_path, mode='a', header=not pd.io.common.file_exists(csv_file_path), index=False)\n"
   ]
  },
  {
   "cell_type": "code",
   "execution_count": null,
   "id": "60d80c05",
   "metadata": {},
   "outputs": [],
   "source": [
    "df=pd.read_csv('output_file1.csv')\n",
    "df.shape"
   ]
  },
  {
   "cell_type": "code",
   "execution_count": null,
   "id": "6792a376",
   "metadata": {},
   "outputs": [],
   "source": []
  }
 ],
 "metadata": {
  "kernelspec": {
   "display_name": "Python 3 (ipykernel)",
   "language": "python",
   "name": "python3"
  },
  "language_info": {
   "codemirror_mode": {
    "name": "ipython",
    "version": 3
   },
   "file_extension": ".py",
   "mimetype": "text/x-python",
   "name": "python",
   "nbconvert_exporter": "python",
   "pygments_lexer": "ipython3",
   "version": "3.11.7"
  }
 },
 "nbformat": 4,
 "nbformat_minor": 5
}
