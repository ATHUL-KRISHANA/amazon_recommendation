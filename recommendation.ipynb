{
 "cells": [
  {
   "cell_type": "code",
   "execution_count": 1,
   "id": "1d3396b3",
   "metadata": {},
   "outputs": [],
   "source": [
    "import numpy as np\n",
    "import pandas as pd"
   ]
  },
  {
   "cell_type": "code",
   "execution_count": 2,
   "id": "2e824781",
   "metadata": {},
   "outputs": [],
   "source": [
    "df=pd.read_csv('amazon_cleaned_final.csv',nrows=20000)"
   ]
  },
  {
   "cell_type": "code",
   "execution_count": 3,
   "id": "a26571f5",
   "metadata": {},
   "outputs": [
    {
     "data": {
      "text/html": [
       "<div>\n",
       "<style scoped>\n",
       "    .dataframe tbody tr th:only-of-type {\n",
       "        vertical-align: middle;\n",
       "    }\n",
       "\n",
       "    .dataframe tbody tr th {\n",
       "        vertical-align: top;\n",
       "    }\n",
       "\n",
       "    .dataframe thead th {\n",
       "        text-align: right;\n",
       "    }\n",
       "</style>\n",
       "<table border=\"1\" class=\"dataframe\">\n",
       "  <thead>\n",
       "    <tr style=\"text-align: right;\">\n",
       "      <th></th>\n",
       "      <th>product_title</th>\n",
       "      <th>average_rating</th>\n",
       "      <th>rating_number</th>\n",
       "      <th>image_url</th>\n",
       "      <th>overall</th>\n",
       "    </tr>\n",
       "  </thead>\n",
       "  <tbody>\n",
       "    <tr>\n",
       "      <th>0</th>\n",
       "      <td>1.2m Brand new Replacement Cable for Sennheise...</td>\n",
       "      <td>3.5</td>\n",
       "      <td>11</td>\n",
       "      <td>https://m.media-amazon.com/images/I/41tniwwRuY...</td>\n",
       "      <td>Sennheiser ElectronicsHeadphones, Earbuds &amp; Ac...</td>\n",
       "    </tr>\n",
       "    <tr>\n",
       "      <th>1</th>\n",
       "      <td>KKstorm School Headset for School: Student Hea...</td>\n",
       "      <td>3.5</td>\n",
       "      <td>35</td>\n",
       "      <td>https://m.media-amazon.com/images/I/31Yd6YaIVj...</td>\n",
       "      <td>KKstormQUALITY: Premium Quality Wired Headphon...</td>\n",
       "    </tr>\n",
       "    <tr>\n",
       "      <th>2</th>\n",
       "      <td>Microsoft Surface Headphones (Renewed)</td>\n",
       "      <td>4.2</td>\n",
       "      <td>40</td>\n",
       "      <td>https://m.media-amazon.com/images/I/313ZjJCCCq...</td>\n",
       "      <td>Amazon RenewedHear crisp, clear audio. Omnison...</td>\n",
       "    </tr>\n",
       "    <tr>\n",
       "      <th>3</th>\n",
       "      <td>erjigo Earphone, Customized Comfort, GK-GS10Ea...</td>\n",
       "      <td>5.0</td>\n",
       "      <td>5</td>\n",
       "      <td>https://m.media-amazon.com/images/I/41WqjKsKZV...</td>\n",
       "      <td>erjigoQuality assurance and fashionable appear...</td>\n",
       "    </tr>\n",
       "    <tr>\n",
       "      <th>4</th>\n",
       "      <td>Youkamoo 4 Pin XLR Balanced Male Compatible fo...</td>\n",
       "      <td>4.5</td>\n",
       "      <td>140</td>\n",
       "      <td>https://m.media-amazon.com/images/I/41abb4Xicx...</td>\n",
       "      <td>Youkamoo4 Pin XLR MaleDual 3.5mm Male8 Core Br...</td>\n",
       "    </tr>\n",
       "    <tr>\n",
       "      <th>...</th>\n",
       "      <td>...</td>\n",
       "      <td>...</td>\n",
       "      <td>...</td>\n",
       "      <td>...</td>\n",
       "      <td>...</td>\n",
       "    </tr>\n",
       "    <tr>\n",
       "      <th>19995</th>\n",
       "      <td>Hermitshell Hard Travel Case Fits Premium Blue...</td>\n",
       "      <td>4.4</td>\n",
       "      <td>73</td>\n",
       "      <td>https://m.media-amazon.com/images/I/41tRRi48uW...</td>\n",
       "      <td>HermitshellHermitshell Hard Travel Storage Car...</td>\n",
       "    </tr>\n",
       "    <tr>\n",
       "      <th>19996</th>\n",
       "      <td>S10+ Ear Buds in Ear Headphones 3.5mm in-Ear E...</td>\n",
       "      <td>3.4</td>\n",
       "      <td>114</td>\n",
       "      <td>https://m.media-amazon.com/images/I/31WJgEnQvm...</td>\n",
       "      <td>snzvok  Nope</td>\n",
       "    </tr>\n",
       "    <tr>\n",
       "      <th>19997</th>\n",
       "      <td>Genuine Sennheiser Replacement Ear Pads Cushio...</td>\n",
       "      <td>4.5</td>\n",
       "      <td>118</td>\n",
       "      <td>https://th.bing.com/th?id=OIP.nRA6M0oRKNauQsYQ...</td>\n",
       "      <td>SennheiserBrand New 2 Ear pads (one pair) genu...</td>\n",
       "    </tr>\n",
       "    <tr>\n",
       "      <th>19998</th>\n",
       "      <td>BGFOX Earbuds with Microphone, 3.5mm in-Ear Wi...</td>\n",
       "      <td>3.8</td>\n",
       "      <td>197</td>\n",
       "      <td>https://m.media-amazon.com/images/I/31HtJHcLOH...</td>\n",
       "      <td>BGFOXGood Quality Earbuds: The powerful 13.6mm...</td>\n",
       "    </tr>\n",
       "    <tr>\n",
       "      <th>19999</th>\n",
       "      <td>WONNIE 10.5’’ Car DVD Player with Headrest Mou...</td>\n",
       "      <td>3.8</td>\n",
       "      <td>502</td>\n",
       "      <td>https://m.media-amazon.com/images/I/51JR9nU39b...</td>\n",
       "      <td>WONNIE♥ 【HD Decoding Chip】Ultra-thin 10.5 inch...</td>\n",
       "    </tr>\n",
       "  </tbody>\n",
       "</table>\n",
       "<p>20000 rows × 5 columns</p>\n",
       "</div>"
      ],
      "text/plain": [
       "                                           product_title  average_rating  \\\n",
       "0      1.2m Brand new Replacement Cable for Sennheise...             3.5   \n",
       "1      KKstorm School Headset for School: Student Hea...             3.5   \n",
       "2                 Microsoft Surface Headphones (Renewed)             4.2   \n",
       "3      erjigo Earphone, Customized Comfort, GK-GS10Ea...             5.0   \n",
       "4      Youkamoo 4 Pin XLR Balanced Male Compatible fo...             4.5   \n",
       "...                                                  ...             ...   \n",
       "19995  Hermitshell Hard Travel Case Fits Premium Blue...             4.4   \n",
       "19996  S10+ Ear Buds in Ear Headphones 3.5mm in-Ear E...             3.4   \n",
       "19997  Genuine Sennheiser Replacement Ear Pads Cushio...             4.5   \n",
       "19998  BGFOX Earbuds with Microphone, 3.5mm in-Ear Wi...             3.8   \n",
       "19999  WONNIE 10.5’’ Car DVD Player with Headrest Mou...             3.8   \n",
       "\n",
       "       rating_number                                          image_url  \\\n",
       "0                 11  https://m.media-amazon.com/images/I/41tniwwRuY...   \n",
       "1                 35  https://m.media-amazon.com/images/I/31Yd6YaIVj...   \n",
       "2                 40  https://m.media-amazon.com/images/I/313ZjJCCCq...   \n",
       "3                  5  https://m.media-amazon.com/images/I/41WqjKsKZV...   \n",
       "4                140  https://m.media-amazon.com/images/I/41abb4Xicx...   \n",
       "...              ...                                                ...   \n",
       "19995             73  https://m.media-amazon.com/images/I/41tRRi48uW...   \n",
       "19996            114  https://m.media-amazon.com/images/I/31WJgEnQvm...   \n",
       "19997            118  https://th.bing.com/th?id=OIP.nRA6M0oRKNauQsYQ...   \n",
       "19998            197  https://m.media-amazon.com/images/I/31HtJHcLOH...   \n",
       "19999            502  https://m.media-amazon.com/images/I/51JR9nU39b...   \n",
       "\n",
       "                                                 overall  \n",
       "0      Sennheiser ElectronicsHeadphones, Earbuds & Ac...  \n",
       "1      KKstormQUALITY: Premium Quality Wired Headphon...  \n",
       "2      Amazon RenewedHear crisp, clear audio. Omnison...  \n",
       "3      erjigoQuality assurance and fashionable appear...  \n",
       "4      Youkamoo4 Pin XLR MaleDual 3.5mm Male8 Core Br...  \n",
       "...                                                  ...  \n",
       "19995  HermitshellHermitshell Hard Travel Storage Car...  \n",
       "19996                                       snzvok  Nope  \n",
       "19997  SennheiserBrand New 2 Ear pads (one pair) genu...  \n",
       "19998  BGFOXGood Quality Earbuds: The powerful 13.6mm...  \n",
       "19999  WONNIE♥ 【HD Decoding Chip】Ultra-thin 10.5 inch...  \n",
       "\n",
       "[20000 rows x 5 columns]"
      ]
     },
     "execution_count": 3,
     "metadata": {},
     "output_type": "execute_result"
    }
   ],
   "source": [
    "df"
   ]
  },
  {
   "cell_type": "code",
   "execution_count": 4,
   "id": "39643758",
   "metadata": {},
   "outputs": [
    {
     "data": {
      "text/plain": [
       "product_title     0\n",
       "average_rating    0\n",
       "rating_number     0\n",
       "image_url         0\n",
       "overall           0\n",
       "dtype: int64"
      ]
     },
     "execution_count": 4,
     "metadata": {},
     "output_type": "execute_result"
    }
   ],
   "source": [
    "df.isna().sum()"
   ]
  },
  {
   "cell_type": "code",
   "execution_count": 5,
   "id": "28980683",
   "metadata": {},
   "outputs": [],
   "source": [
    "detail=df['overall']"
   ]
  },
  {
   "cell_type": "code",
   "execution_count": 6,
   "id": "402ede1c",
   "metadata": {},
   "outputs": [
    {
     "data": {
      "text/plain": [
       "0        Sennheiser ElectronicsHeadphones, Earbuds & Ac...\n",
       "1        KKstormQUALITY: Premium Quality Wired Headphon...\n",
       "2        Amazon RenewedHear crisp, clear audio. Omnison...\n",
       "3        erjigoQuality assurance and fashionable appear...\n",
       "4        Youkamoo4 Pin XLR MaleDual 3.5mm Male8 Core Br...\n",
       "                               ...                        \n",
       "19995    HermitshellHermitshell Hard Travel Storage Car...\n",
       "19996                                         snzvok  Nope\n",
       "19997    SennheiserBrand New 2 Ear pads (one pair) genu...\n",
       "19998    BGFOXGood Quality Earbuds: The powerful 13.6mm...\n",
       "19999    WONNIE♥ 【HD Decoding Chip】Ultra-thin 10.5 inch...\n",
       "Name: overall, Length: 20000, dtype: object"
      ]
     },
     "execution_count": 6,
     "metadata": {},
     "output_type": "execute_result"
    }
   ],
   "source": [
    "detail"
   ]
  },
  {
   "cell_type": "code",
   "execution_count": 7,
   "id": "db22658f",
   "metadata": {},
   "outputs": [],
   "source": [
    "import nltk\n",
    "# nltk.download('plunkt')\n",
    "from nltk.tokenize import word_tokenize\n",
    "detail=detail.apply(lambda x: word_tokenize(x))\n"
   ]
  },
  {
   "cell_type": "code",
   "execution_count": 8,
   "id": "239e9ad5",
   "metadata": {},
   "outputs": [],
   "source": [
    "detail=detail.apply(lambda x:' '.join(x))"
   ]
  },
  {
   "cell_type": "code",
   "execution_count": 9,
   "id": "688e7ff8",
   "metadata": {},
   "outputs": [],
   "source": [
    "detail=detail.str.replace('[^a-zA-Z0-9+-/]+',' ')"
   ]
  },
  {
   "cell_type": "code",
   "execution_count": 10,
   "id": "791efe46",
   "metadata": {},
   "outputs": [],
   "source": [
    "detail=detail.apply(lambda x:' '.join([i for i in word_tokenize(x) if len(i)>2]))"
   ]
  },
  {
   "cell_type": "code",
   "execution_count": 11,
   "id": "7f5f108b",
   "metadata": {},
   "outputs": [],
   "source": [
    "from nltk.stem import PorterStemmer\n",
    "p=PorterStemmer()\n",
    "detail=detail.apply(lambda x:[p.stem(i) for i in word_tokenize(x)]).apply( lambda x:' '.join(x))"
   ]
  },
  {
   "cell_type": "code",
   "execution_count": 12,
   "id": "c1878e16",
   "metadata": {},
   "outputs": [],
   "source": [
    "from sklearn.feature_extraction.text import TfidfVectorizer\n",
    "vec=TfidfVectorizer(stop_words='english')\n",
    "data=vec.fit_transform(detail)"
   ]
  },
  {
   "cell_type": "code",
   "execution_count": 13,
   "id": "bedeb2ee",
   "metadata": {},
   "outputs": [
    {
     "data": {
      "text/plain": [
       "<20000x78741 sparse matrix of type '<class 'numpy.float64'>'\n",
       "\twith 1496413 stored elements in Compressed Sparse Row format>"
      ]
     },
     "execution_count": 13,
     "metadata": {},
     "output_type": "execute_result"
    }
   ],
   "source": [
    "data"
   ]
  },
  {
   "cell_type": "code",
   "execution_count": 14,
   "id": "ec334fb7",
   "metadata": {
    "scrolled": true
   },
   "outputs": [],
   "source": [
    "from sklearn.metrics.pairwise import cosine_similarity\n",
    "similarity=cosine_similarity(data)"
   ]
  },
  {
   "cell_type": "code",
   "execution_count": 15,
   "id": "2e7488b4",
   "metadata": {},
   "outputs": [
    {
     "data": {
      "text/plain": [
       "array([[1.        , 0.00690009, 0.01263814, ..., 0.11842232, 0.02651664,\n",
       "        0.        ],\n",
       "       [0.00690009, 1.        , 0.05693743, ..., 0.05841648, 0.13601278,\n",
       "        0.07152899],\n",
       "       [0.01263814, 0.05693743, 1.        , ..., 0.01039075, 0.1234697 ,\n",
       "        0.01769151],\n",
       "       ...,\n",
       "       [0.11842232, 0.05841648, 0.01039075, ..., 1.        , 0.02618523,\n",
       "        0.03146707],\n",
       "       [0.02651664, 0.13601278, 0.1234697 , ..., 0.02618523, 1.        ,\n",
       "        0.04148329],\n",
       "       [0.        , 0.07152899, 0.01769151, ..., 0.03146707, 0.04148329,\n",
       "        1.        ]])"
      ]
     },
     "execution_count": 15,
     "metadata": {},
     "output_type": "execute_result"
    }
   ],
   "source": [
    "similarity"
   ]
  },
  {
   "cell_type": "code",
   "execution_count": null,
   "id": "40c2f6d9",
   "metadata": {},
   "outputs": [],
   "source": []
  },
  {
   "cell_type": "code",
   "execution_count": 16,
   "id": "fae873a9",
   "metadata": {},
   "outputs": [],
   "source": [
    "def recomnendation(product):\n",
    "    product_index=df.index[df['product_title']==product][0]\n",
    "    similar_product=list(enumerate(similarity[product_index]))\n",
    "    similar_product.sort(key=lambda x:x[-1],reverse=True)\n",
    "    top_similar=similar_product[1:6]\n",
    "    result=[df.iloc[i[0],0] for i in top_similar]\n",
    "    img_link=[df.iloc[i[0], 3] for i in top_similar]\n",
    "    \n",
    "    return  result,img_link"
   ]
  },
  {
   "cell_type": "code",
   "execution_count": 17,
   "id": "e6010fb4",
   "metadata": {},
   "outputs": [],
   "source": [
    "res,img=recomnendation('Microsoft Surface\\xa0Headphones (Renewed)')\n"
   ]
  },
  {
   "cell_type": "code",
   "execution_count": 18,
   "id": "93804d19",
   "metadata": {},
   "outputs": [
    {
     "name": "stdout",
     "output_type": "stream",
     "text": [
      "['Microsoft Surface\\xa0Headphones', 'NEW Microsoft Surface Headphones 2 - Light Gray', 'Elesound NC100 Wired Active Noise Cancelling Headphones,Hi-Fi Deep Bass Over Ear Headphones with Microphone,Comfortable Protein Earpads,20H Playtime for Adults Airplane iPhone Android Travel (Black)', 'E7 Active Noise Cancelling Headphones Bluetooth Headphones Over Ear Wireless Headphones with Microphone Deep Bass, Comfortable Protein Earpads, 30HPlaytime for Travel/Work', 'Active Noise Cancelling Headphones,Wireless Bluetooth Headphones Built-in Mic 40 Hours Playtime Wireless Noise Cancelling Headphone 3D Low Bass Tone Fast Charge for Cellphone/Work/Gym/TravelComputers']\n",
      "['https://m.media-amazon.com/images/I/313ZjJCCCqL._AC_.jpg', 'https://m.media-amazon.com/images/I/21T0PWJzRRL._AC_.jpg', 'https://m.media-amazon.com/images/I/41wO2OH4CtL._AC_.jpg', 'https://m.media-amazon.com/images/I/41BuFk77+8L._AC_.jpg', 'https://m.media-amazon.com/images/I/31HQVFSfNGL._AC_.jpg']\n"
     ]
    }
   ],
   "source": [
    "for i in res,img:\n",
    "    print(i)"
   ]
  },
  {
   "cell_type": "code",
   "execution_count": 19,
   "id": "f739bf6e",
   "metadata": {},
   "outputs": [
    {
     "data": {
      "text/plain": [
       "'https://m.media-amazon.com/images/I/41tniwwRuYL._AC_.jpg'"
      ]
     },
     "execution_count": 19,
     "metadata": {},
     "output_type": "execute_result"
    }
   ],
   "source": [
    "df['image_url'][0]"
   ]
  },
  {
   "cell_type": "code",
   "execution_count": 20,
   "id": "b28cb202",
   "metadata": {},
   "outputs": [],
   "source": [
    "import pickle\n",
    "pickle.dump(df,open('product.pkl','wb'))"
   ]
  },
  {
   "cell_type": "code",
   "execution_count": 21,
   "id": "6453d72a",
   "metadata": {},
   "outputs": [],
   "source": [
    "pickle.dump(similarity,open('product_similarity.pkl','wb'))"
   ]
  },
  {
   "cell_type": "code",
   "execution_count": null,
   "id": "048b8403",
   "metadata": {},
   "outputs": [],
   "source": []
  }
 ],
 "metadata": {
  "kernelspec": {
   "display_name": "Python 3 (ipykernel)",
   "language": "python",
   "name": "python3"
  },
  "language_info": {
   "codemirror_mode": {
    "name": "ipython",
    "version": 3
   },
   "file_extension": ".py",
   "mimetype": "text/x-python",
   "name": "python",
   "nbconvert_exporter": "python",
   "pygments_lexer": "ipython3",
   "version": "3.11.7"
  }
 },
 "nbformat": 4,
 "nbformat_minor": 5
}
